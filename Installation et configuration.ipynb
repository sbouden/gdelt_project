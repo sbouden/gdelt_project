{
 "cells": [
  {
   "cell_type": "markdown",
   "metadata": {},
   "source": [
    "# Etapes d'installation et de configuration en local"
   ]
  },
  {
   "cell_type": "markdown",
   "metadata": {},
   "source": [
    "Nous avons opté pour une installation de Zeppelin et de Cassandra en local pour commencer\n",
    "\n",
    "### Zeppelin en local:\n",
    "\n",
    "- download package : http://zeppelin.apache.org/download.html\n",
    "- tar zxvf …\n",
    "- cd zeppelin …\n",
    "- bin/zeppelin-daemon.sh start\n",
    "- sudo service zeppelin start\n",
    "- sudo service zeppelin stop\n",
    "- sudo service zeppelin restart\n",
    "\n",
    "### Installation de CCM\n",
    "CCM: https://academy.datastax.com/planet-cassandra/getting-started-with-ccm-cassandra-cluster-manager\n",
    "\n",
    "### Cassandra en local\n",
    "- sudo apt update\n",
    "- sudo apt install cassandra"
   ]
  },
  {
   "cell_type": "markdown",
   "metadata": {},
   "source": [
    "# Etapes d'installation et de configuration sur EC2\n",
    "\n",
    "Sources utiles: \n",
    "- https://www.linode.com/docs/databases/cassandra/set-up-a-cassandra-node-cluster-on-ubuntu-and-centos/\n",
    "- https://www.vultr.com/docs/how-to-install-apache-cassandra-3-11-x-on-centos-7\n",
    "\n",
    "### Création d'un Cluster\n",
    "Configurer SSH everywhere avec les règles entrantes\n"
   ]
  },
  {
   "cell_type": "markdown",
   "metadata": {},
   "source": [
    "### Installation Cassandra sur Centos-7 (Amazon EMR)\n",
    "https://www.vultr.com/docs/how-to-install-apache-cassandra-3-11-x-on-centos-7\n",
    "- sudo yum install -y java-1.8.0-openjdk\n",
    "ou \n",
    "sudo alternatives --config java\n",
    "\n",
    "- java -version\n",
    "- echo $JAVA_HOME\n"
   ]
  },
  {
   "cell_type": "markdown",
   "metadata": {},
   "source": [
    "1) ssh -i \"test.pem\" ec2-user@ec2-35-168-111-46.compute-1.amazonaws.com\n",
    "2) java -version\n",
    "3) sudo nano /etc/yum.repos.d/cassandra311x.repo\n",
    "\n",
    "[cassandra]\n",
    "name=Apache Cassandra\n",
    "baseurl=https://www.apache.org/dist/cassandra/redhat/311x/\n",
    "gpgcheck=1\n",
    "repo_gpgcheck=1\n",
    "gpgkey=https://www.apache.org/dist/cassandra/KEYS\n",
    "\n",
    "\n",
    "4) sudo rm -rf /var/lib/cassandra/data/system/*\n",
    "5) sudo yum install cassandra -y\n",
    "\n",
    "6) sudo nano /etc/cassandra/conf/cassandra.yaml\n",
    "\n",
    "- seeds: \"172.31.81.86, 172.31.83.94, 172.31.91.18, 172.31.87.57, 172.31.87.67\"\n",
    "- listen_address: \"172.31.81.86\"\n",
    "- rpc_address: “172.31.81.86”\n",
    "- endpoint_snitch   GossipingPropertyFileSnitch\n",
    "- auto_bootstrap: false\n",
    "\n",
    "7) sudo nano /etc/cassandra/conf/cassandra-rackdc.properties\n",
    "- lsb_release -a\n",
    "- sudo yum install epel-release -y\n",
    "- sudo yum install --enablerepo='epel' ufw -y\n",
    "- sudo ufw enable\n",
    "- sudo ufw allow proto tcp from 172.31.53.37 to any port 9042\n",
    "- sudo ufw allow proto tcp from 172.31.53.37 to any port 7000\n",
    "- sudo ufw allow proto tcp from 172.31.58.36 to any port 9042\n",
    "- sudo ufw allow proto tcp from 172.31.58.36 to any port 7000\n",
    "- sudo ufw allow proto tcp from 172.31.53.163 to any port 9042\n",
    "- sudo service cassandra start\n",
    "- sudo nodetool status\n",
    "- cqlsh"
   ]
  },
  {
   "cell_type": "markdown",
   "metadata": {},
   "source": [
    "### Installation d'Ansible\n",
    "On peut automatiser le processus d'installation de cassandra sur les noeuds à l'aide d'Ansible\n",
    "\n",
    "Setting Up Cassandra Cluster Through Ansible - Knoldus Blogs\n",
    "\n",
    "https://blog.knoldus.com/setting-up-cassandra-cluster-through-ansible/\n"
   ]
  },
  {
   "cell_type": "markdown",
   "metadata": {},
   "source": [
    "### Démarrage de Zeppelin\n",
    "Ouvrir un tunnel SSH en copiant le lien trouvé sur SSH dans un terminal dans le même répertoire que la clé. \n",
    "Si tous les flux dans les groupes de sécurité ne sont pas ouverts, et que vous ne voulez pas autoriser tous les flux publics, il est nécessaire d'installer FoxyProxy. Après l'ajout de l'extension et import du fichier proxyproxy-settings.xml, vérifier que l'option \"use proxies based on their predefined patterns and priorities\" est cochée."
   ]
  },
  {
   "cell_type": "markdown",
   "metadata": {},
   "source": [
    "### Ajout du connecteur / interpréteur Cassandra dans Zeppelin \n",
    "Cette étape n'est pas nécessaire si l'on travaille sur Zeppelin en local\n",
    "\n",
    "Aller dans l'option interpreter à droite (petite roue dentée), ensuite spark, et rajouter les connecteurs ou interpréteurs nécessaires\n",
    "\n",
    "Ne pas oublier de les rajouter sur le notebook, d'enregistrer, et d'écrire $nom_interpréteur dans la cellule ou l'interpréteur est appelé\n",
    "\n",
    "- import org.apache.spark.sql.cassandra._\n",
    "- import com.datastax.spark.connector._\n",
    "- df.write.cassandraFormat(\"TableName\", \"KeySpace\").save()\n",
    "\n",
    "https://github.com/datastax/spark-cassandra-connector/blob/master/doc/14_data_frames.md"
   ]
  },
  {
   "cell_type": "code",
   "execution_count": null,
   "metadata": {},
   "outputs": [],
   "source": []
  }
 ],
 "metadata": {
  "kernelspec": {
   "display_name": "Python 3",
   "language": "python",
   "name": "python3"
  },
  "language_info": {
   "codemirror_mode": {
    "name": "ipython",
    "version": 3
   },
   "file_extension": ".py",
   "mimetype": "text/x-python",
   "name": "python",
   "nbconvert_exporter": "python",
   "pygments_lexer": "ipython3",
   "version": "3.6.9"
  },
  "latex_envs": {
   "LaTeX_envs_menu_present": true,
   "autoclose": false,
   "autocomplete": true,
   "bibliofile": "biblio.bib",
   "cite_by": "apalike",
   "current_citInitial": 1,
   "eqLabelWithNumbers": true,
   "eqNumInitial": 1,
   "hotkeys": {
    "equation": "Ctrl-E",
    "itemize": "Ctrl-I"
   },
   "labels_anchors": false,
   "latex_user_defs": false,
   "report_style_numbering": false,
   "user_envs_cfg": false
  },
  "toc": {
   "base_numbering": 1,
   "nav_menu": {},
   "number_sections": true,
   "sideBar": true,
   "skip_h1_title": false,
   "title_cell": "Table of Contents",
   "title_sidebar": "Contents",
   "toc_cell": false,
   "toc_position": {},
   "toc_section_display": true,
   "toc_window_display": false
  }
 },
 "nbformat": 4,
 "nbformat_minor": 2
}
