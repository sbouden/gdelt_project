{
 "cells": [
  {
   "cell_type": "markdown",
   "metadata": {},
   "source": [
    "# Quelques erreurs rencontrées et résolution\n",
    "\n"
   ]
  },
  {
   "cell_type": "markdown",
   "metadata": {},
   "source": [
    "Il est à noter que pour ce projet, nous utilisons un compte Amazon Educate.Il se peut donc qu'il y ait des erreurs très spécifiques à cette version.\n",
    "\n",
    "### Erreur rencontrée: Cluster résilié avec erreurs EC2 liés aux groupes de sécurité\n",
    "ClusterRésilié avec des erreursThe EC2 Security Groups [sg-0d3e49b7d23d67d03] contain one or more ingress rules to ports other than [22] which allow public access.\n",
    "\n",
    "→ Remove all the traffic from the other rules"
   ]
  },
  {
   "cell_type": "markdown",
   "metadata": {},
   "source": [
    "### Erreur rencontrée: Permissions de la clé\n",
    "Permissions 0664 for 'key.pem' are too open.\n",
    "It is required that your private key files are NOT accessible by others.\n",
    "This private key will be ignored.\n",
    "Load key \"key.pem\": bad permissions\n",
    "hadoop@ec2-xxx-xxx-xxx-xxx.compute-1.amazonaws.com: Permission denied (publickey)\n",
    "\n",
    "→ Résolution:\n",
    "chmod 400 key.pem\n",
    "ou \n",
    "sudo ssh -i key.pem hadoop@ec2-xxx-xxx-xxx-xxx.compute-1.amazonaws.com\n"
   ]
  },
  {
   "cell_type": "markdown",
   "metadata": {},
   "source": [
    "### Erreur rencontrée: Installation Cassandra\n",
    "Downloading packages:\n",
    "cassandra-3.11.5-1.noarch.rpm  FAILED                                          \n",
    "https://www.apache.org/dist/cassandra/redhat/311x/cassandra-3.11.5-1.noarch.rpm: [Errno 14] curl#35 - \"OpenSSL SSL_connect: SSL_ERROR_SYSCALL in connection to www.apache.org:443 \"\n",
    "Essai d'un autre miroir.\n",
    "\n",
    "Error downloading packages:\n",
    "  cassandra-3.11.5-1.noarch: [Errno 256] No more mirrors to try."
   ]
  },
  {
   "cell_type": "markdown",
   "metadata": {},
   "source": [
    "### Erreur rencontrée: Démarrage d'un noeud Cassandra\n",
    "Si le noeud Cassandra ne veut pas démarrer avec la commande ./Cassandra, et renvoie une erreur relative aux data centers, il faut aller vider les répertoires suivants:\n",
    "commitlog\n",
    "data\n",
    "saved_caches\n",
    "relancer ensuite le noeud Cassandra\n",
    "=> \n",
    "http://prajeeth.com/tech_blog/apache/cassandra/cassandra_snitch_error/\n",
    "\n",
    "modif regles connections à propager sur chaque noeud: créer nouvelle règle = choisir “all trafic”\n",
    "\n",
    "les instances EC2, doivent permettre des connexions ssh, et permettre aux noeuds Cassandra de communiquer, en ajoutant les bloc CIDR issus du subnet du cluster généré:\n",
    "Tous les TCP + 0 - 65000 (range de ports + X.X.X.X/XYZ (bloc CIDR du subnet)\n"
   ]
  },
  {
   "cell_type": "markdown",
   "metadata": {},
   "source": [
    "### Erreur rencontrée: Interpréteur Cassandra sur Zeppelin\n",
    "Aller dans zeppelin --> interpreter --> Spark --> Edit et rajouter :\n",
    "spark.jars.packages => Value: datastax:spark-cassandra-connector:2.4.0-s_2.11\n",
    "spark.cassandra.connection.host => Value: les adresses IP des noeuds"
   ]
  },
  {
   "cell_type": "markdown",
   "metadata": {},
   "source": [
    "### Erreur rencontrée : Erreur liée aux noeuds sur différents datacenters ou racks\n",
    "\n",
    "Cannot start node if snitch's data center (dc1) differs from previous data center (datacenter1)\n",
    "\n",
    "http://prajeeth.com/tech_blog/apache/cassandra/cassandra_snitch_error/\n",
    "\n",
    "### Erreur rencontrée: Port d'installation 127.0.0.2:9042 already in use\n",
    "\n",
    "Traceback (most recent call last):File \"/usr/local/bin/ccm\", line 112, in <module> cmd.run()\n",
    " File \"/usr/local/lib/python2.7/dist-packages/ccmlib/cmds/cluster_cmds.py\", line 510, in run\n",
    "  allow_root=self.options.allow_root) is None:\n",
    " File \"/usr/local/lib/python2.7/dist-packages/ccmlib/cluster.py\", line 390, in start\n",
    "  common.assert_socket_available(itf)\n",
    " File \"/usr/local/lib/python2.7/dist-packages/ccmlib/common.py\", line 521, in assert_socket_available\n",
    "  raise UnavailableSocketError(\"Inet address %s:%s is not available: %s; a cluster may already be running or you may need to add the loopback alias\" % (addr, port, msg))\n",
    "ccmlib.common.UnavailableSocketError: Inet address 127.0.0.1:9042 is not available: [Errno 98] Address already in use; a cluster may already be running or you may need to add the loopback alias\n",
    "    \n",
    "Bien vérifier les propriétés (seeds/listen_address/rpc_address du fichier .yaml et ensuite redémarrer cassandra avec cassandra -R et cqlsh adresse_du_noeud 9042"
   ]
  },
  {
   "cell_type": "code",
   "execution_count": null,
   "metadata": {},
   "outputs": [],
   "source": []
  }
 ],
 "metadata": {
  "kernelspec": {
   "display_name": "Python 3",
   "language": "python",
   "name": "python3"
  },
  "language_info": {
   "codemirror_mode": {
    "name": "ipython",
    "version": 3
   },
   "file_extension": ".py",
   "mimetype": "text/x-python",
   "name": "python",
   "nbconvert_exporter": "python",
   "pygments_lexer": "ipython3",
   "version": "3.6.9"
  },
  "latex_envs": {
   "LaTeX_envs_menu_present": true,
   "autoclose": false,
   "autocomplete": true,
   "bibliofile": "biblio.bib",
   "cite_by": "apalike",
   "current_citInitial": 1,
   "eqLabelWithNumbers": true,
   "eqNumInitial": 1,
   "hotkeys": {
    "equation": "Ctrl-E",
    "itemize": "Ctrl-I"
   },
   "labels_anchors": false,
   "latex_user_defs": false,
   "report_style_numbering": false,
   "user_envs_cfg": false
  },
  "toc": {
   "base_numbering": 1,
   "nav_menu": {},
   "number_sections": true,
   "sideBar": true,
   "skip_h1_title": false,
   "title_cell": "Table of Contents",
   "title_sidebar": "Contents",
   "toc_cell": false,
   "toc_position": {},
   "toc_section_display": true,
   "toc_window_display": false
  }
 },
 "nbformat": 4,
 "nbformat_minor": 2
}
